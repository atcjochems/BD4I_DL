{
 "cells": [
  {
   "cell_type": "markdown",
   "metadata": {},
   "source": [
    "# Pyradiomics feature calculation tool\n"
   ]
  },
  {
   "cell_type": "markdown",
   "metadata": {},
   "source": [
    "<b>Description:</b><br>\n",
    "Input:   Dicom directory path., pyradiomics parameters file (yaml) \n",
    "<br> Output:  Calculated features or NRRDs of image and mask\n",
    "<br> <b>RTSTRUCT file should ends with '.dcm'</b>\n"
   ]
  },
  {
   "cell_type": "code",
   "execution_count": 2,
   "metadata": {},
   "outputs": [],
   "source": [
    "########################\n",
    "#@author: S.Primakov\n",
    "#Utility for batch features extraction from dicom directories (pyradiomics, py_rex),\n",
    "#Utility for batch DCM to Nrrd conversion\n",
    "import General_func\n",
    "import os\n",
    "import time\n",
    "import pandas as pd\n",
    "from pandas import DataFrame\n",
    "\n",
    "\n",
    "## Set the input data paths\n",
    "\n",
    "convert_to_nrrd = True        #Set True if you want to convert DICOMs to Nrrds without features calculation\n",
    "general_path = r'B:\\Histology\\Stanford\\NSCLC Radiogenomics'    #Path to Dicom directory with patients\n",
    "exportDir  = r'B:\\NSCLC Radiogenomics stanford'    #Path for output xlsx file, or nrrd files\n",
    "export_name = r'Maastro_Lung_features.xlsx'  #Name of output xlsx file with features\n",
    "Region_of_interest = r'all'      #Set the ROI,  example 'gtv','ctv', etc, 'all' means all ROIs, start from ! if you want to extract only exactly mentioned ROI (example: if you write \"gtv\" it will extract all \"gtv\" contained ROIs, gtv2,gtv-t3 etc.) \n",
    "paramsFile =r'C:\\Desktop\\out\\params.yaml' #path to pyradiomics parameters file\n",
    "logg_enable= False              #Pyradiomics logg, if True txt logg file will be generated"
   ]
  },
  {
   "cell_type": "code",
   "execution_count": null,
   "metadata": {
    "scrolled": true
   },
   "outputs": [],
   "source": [
    "###Directory parser module\n",
    "init_time = time.time()\n",
    "\n",
    "# searching for DICOM files\n",
    "patients = next(os.walk(general_path))[1]\n",
    "print(len(patients),' Patients found')\n",
    "Patient_dict={}\n",
    "\n",
    "#loop over patients for finding RTSTRUCT\n",
    "for patient in General_func.log_progress(patients,every=1):\n",
    "    Patient_dict = General_func.Parsing_dir(general_path,patient,Patient_dict) \n",
    "    \n",
    "print('Parsing time: %d sec'%(time.time()-init_time))\n",
    "    "
   ]
  },
  {
   "cell_type": "code",
   "execution_count": null,
   "metadata": {
    "scrolled": true
   },
   "outputs": [],
   "source": [
    "start_time = time.time()     \n",
    "Output_dictionary ={}\n",
    "on=0\n",
    "\n",
    "for patient in General_func.log_progress(Patient_dict.keys(),every=1): \n",
    "    Output_dictionary,on= General_func.Batch_calculation(Patient_dict,patient,Region_of_interest,convert_to_nrrd,exportDir,paramsFile,logg_enable,Output_dictionary,on)            \n",
    "if not(convert_to_nrrd):\n",
    "    Output_patients = DataFrame.from_dict(Output_dictionary).T\n",
    "    print('Features shape : ',Output_patients.shape)\n",
    "    writer = pd.ExcelWriter(exportDir+'/'+export_name)\n",
    "    Output_patients.to_excel(writer,'Sheet1')\n",
    "    writer.save()\n",
    "    print('Calculation completed in %d seconds ' % (time.time() - start_time))\n",
    "    print('Features file in directiry: %s'%exportDir)\n",
    "else:           \n",
    "    print('Conversion completed in %d seconds ' % (time.time() - start_time))\n",
    "    print('Conerted files in directory: %s'%exportDir+'/converted_nrrds')"
   ]
  },
  {
   "cell_type": "code",
   "execution_count": null,
   "metadata": {
    "collapsed": true
   },
   "outputs": [],
   "source": []
  },
  {
   "cell_type": "code",
   "execution_count": null,
   "metadata": {
    "collapsed": true
   },
   "outputs": [],
   "source": []
  },
  {
   "cell_type": "code",
   "execution_count": null,
   "metadata": {
    "collapsed": true
   },
   "outputs": [],
   "source": []
  },
  {
   "cell_type": "code",
   "execution_count": null,
   "metadata": {
    "collapsed": true
   },
   "outputs": [],
   "source": []
  },
  {
   "cell_type": "code",
   "execution_count": null,
   "metadata": {
    "collapsed": true
   },
   "outputs": [],
   "source": []
  },
  {
   "cell_type": "code",
   "execution_count": null,
   "metadata": {
    "collapsed": true
   },
   "outputs": [],
   "source": []
  },
  {
   "cell_type": "code",
   "execution_count": null,
   "metadata": {
    "collapsed": true
   },
   "outputs": [],
   "source": []
  },
  {
   "cell_type": "markdown",
   "metadata": {},
   "source": [
    "## Extra functions:\n"
   ]
  },
  {
   "cell_type": "code",
   "execution_count": 6,
   "metadata": {
    "collapsed": true
   },
   "outputs": [],
   "source": [
    "# Use this function to rename your dataset in case of it not ends with '.dcm'\n",
    "import glob, os\n",
    "def rename(direct, pattern, titlePattern):\n",
    "    for pathAndFilename in glob.iglob(os.path.join(direct, pattern)):\n",
    "        title, ext = os.path.splitext(os.path.basename(pathAndFilename))\n",
    "        os.rename(pathAndFilename, \n",
    "                  os.path.join(direct, titlePattern % title + ext))\n",
    "\n",
    "        \n",
    "patients = next(os.walk(r'B:\\Sebastian\\For Sergey\\For Sergey'))[1]\n",
    "for patient in patients:\n",
    "    rename(r'B:\\Sebastian\\For Sergey\\For Sergey\\%s'%patient, '*', '%s'+'.dcm')\n"
   ]
  },
  {
   "cell_type": "code",
   "execution_count": 5,
   "metadata": {
    "collapsed": true
   },
   "outputs": [],
   "source": [
    "#Patient dictionary writer function\n",
    "import csv\n",
    "dictionary_path=r'C:\\Users\\S.Primakov\\Documents\\Python Scripts\\ucsfdict.csv'\n",
    "with open(dictionary_path,'w') as dict_file:\n",
    "    writer = csv.writer(dict_file)\n",
    "    for key,value in Patient_dict.items():\n",
    "        writer.writerow([key,value[0],value[1]])"
   ]
  },
  {
   "cell_type": "code",
   "execution_count": null,
   "metadata": {},
   "outputs": [],
   "source": [
    "#Patient dictionary reader function\n",
    "Patient_dict={}\n",
    "import csv\n",
    "dictionary_path=r'C:\\Users\\S.Primakov\\Documents\\Python Scripts\\ucsfdict.csv'\n",
    "with open(dictionary_path,'r') as dict_file:\n",
    "    reader = csv.reader(dict_file)\n",
    "    for i in reader:\n",
    "        Patient_dict[i[0]]=[i[1],i[2]]"
   ]
  },
  {
   "cell_type": "code",
   "execution_count": null,
   "metadata": {
    "collapsed": true
   },
   "outputs": [],
   "source": []
  },
  {
   "cell_type": "code",
   "execution_count": null,
   "metadata": {
    "collapsed": true
   },
   "outputs": [],
   "source": []
  },
  {
   "cell_type": "code",
   "execution_count": null,
   "metadata": {
    "collapsed": true
   },
   "outputs": [],
   "source": [
    "####debug"
   ]
  },
  {
   "cell_type": "code",
   "execution_count": null,
   "metadata": {
    "collapsed": true
   },
   "outputs": [],
   "source": []
  },
  {
   "cell_type": "code",
   "execution_count": 5,
   "metadata": {
    "collapsed": true
   },
   "outputs": [],
   "source": [
    "import radiomics\n",
    "from radiomics import featureextractor"
   ]
  },
  {
   "cell_type": "code",
   "execution_count": 6,
   "metadata": {},
   "outputs": [
    {
     "data": {
      "text/plain": [
       "'1.3.0.post59+g2e6d2c1'"
      ]
     },
     "execution_count": 6,
     "metadata": {},
     "output_type": "execute_result"
    }
   ],
   "source": [
    "radiomics.__version__"
   ]
  },
  {
   "cell_type": "raw",
   "metadata": {},
   "source": []
  },
  {
   "cell_type": "code",
   "execution_count": null,
   "metadata": {
    "collapsed": true
   },
   "outputs": [],
   "source": []
  },
  {
   "cell_type": "code",
   "execution_count": null,
   "metadata": {
    "collapsed": true
   },
   "outputs": [],
   "source": []
  },
  {
   "cell_type": "code",
   "execution_count": null,
   "metadata": {
    "collapsed": true
   },
   "outputs": [],
   "source": []
  }
 ],
 "metadata": {
  "kernelspec": {
   "display_name": "Python 3",
   "language": "python",
   "name": "python3"
  },
  "language_info": {
   "codemirror_mode": {
    "name": "ipython",
    "version": 3
   },
   "file_extension": ".py",
   "mimetype": "text/x-python",
   "name": "python",
   "nbconvert_exporter": "python",
   "pygments_lexer": "ipython3",
   "version": "3.6.6"
  }
 },
 "nbformat": 4,
 "nbformat_minor": 2
}
