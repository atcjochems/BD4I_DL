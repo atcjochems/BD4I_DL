{
 "cells": [
  {
   "cell_type": "markdown",
   "metadata": {},
   "source": [
    "# Pyradiomics feature calculation tool\n"
   ]
  },
  {
   "cell_type": "markdown",
   "metadata": {},
   "source": [
    "<b>Description:</b><br>\n",
    "Input:   Dicom directory path., pyradiomics parameters file (yaml) \n",
    "<br> Output:  Calculated features or NRRDs of image and mask\n",
    "<br> <b>RTSTRUCT file should ends with '.dcm'</b>\n"
   ]
  },
  {
   "cell_type": "code",
   "execution_count": 2,
   "metadata": {},
   "outputs": [],
   "source": [
    "########################\n",
    "#@author: S.Primakov\n",
    "#Utility for batch features extraction from dicom directories (pyradiomics, py_rex),\n",
    "#Utility for batch DCM to Nrrd conversion\n",
    "import General_func\n",
    "import os\n",
    "import time\n",
    "import pandas as pd\n",
    "from pandas import DataFrame\n",
    "\n",
    "\n",
    "## Set the input data paths\n",
    "\n",
    "convert_to_nrrd = True        #Set True if you want to convert DICOMs to Nrrds without features calculation\n",
    "general_path = r'B:\\Histology\\Stanford\\NSCLC Radiogenomics'    #Path to Dicom directory with patients\n",
    "exportDir  = r'B:\\NSCLC Radiogenomics stanford'    #Path for output xlsx file, or nrrd files\n",
    "export_name = r'Maastro_Lung_features.xlsx'  #Name of output xlsx file with features\n",
    "Region_of_interest = r'all'      #Set the ROI,  example 'gtv','ctv', etc, 'all' means all ROIs, start from ! if you want to extract only exactly mentioned ROI (example: if you write \"gtv\" it will extract all \"gtv\" contained ROIs, gtv2,gtv-t3 etc.) \n",
    "paramsFile =r'C:\\Desktop\\out\\params.yaml' #path to pyradiomics parameters file\n",
    "logg_enable= False              #Pyradiomics logg, if True txt logg file will be generated"
   ]
  },
  {
   "cell_type": "code",
   "execution_count": 3,
   "metadata": {
    "scrolled": true
   },
   "outputs": [
    {
     "name": "stdout",
     "output_type": "stream",
     "text": [
      "211  Patients found\n"
     ]
    },
    {
     "data": {
      "application/vnd.jupyter.widget-view+json": {
       "model_id": "ebd62f18560648af843d394e41f5a812",
       "version_major": 2,
       "version_minor": 0
      },
      "text/plain": [
       "A Jupyter Widget"
      ]
     },
     "metadata": {},
     "output_type": "display_data"
    },
    {
     "name": "stdout",
     "output_type": "stream",
     "text": [
      "RTSTRUCT for AMC-001 patient not found\n",
      "RTSTRUCT for AMC-002 patient not found\n",
      "RTSTRUCT for AMC-003 patient not found\n",
      "RTSTRUCT for AMC-004 patient not found\n",
      "RTSTRUCT for AMC-005 patient not found\n",
      "RTSTRUCT for AMC-006 patient not found\n",
      "RTSTRUCT for AMC-007 patient not found\n",
      "RTSTRUCT for AMC-008 patient not found\n",
      "RTSTRUCT for AMC-009 patient not found\n",
      "RTSTRUCT for AMC-010 patient not found\n",
      "RTSTRUCT for AMC-011 patient not found\n",
      "RTSTRUCT for AMC-012 patient not found\n",
      "RTSTRUCT for AMC-013 patient not found\n",
      "RTSTRUCT for AMC-014 patient not found\n",
      "RTSTRUCT for AMC-015 patient not found\n",
      "RTSTRUCT for AMC-016 patient not found\n",
      "RTSTRUCT for AMC-017 patient not found\n",
      "RTSTRUCT for AMC-018 patient not found\n",
      "RTSTRUCT for AMC-019 patient not found\n",
      "RTSTRUCT for AMC-020 patient not found\n",
      "RTSTRUCT for AMC-021 patient not found\n",
      "RTSTRUCT for AMC-022 patient not found\n",
      "RTSTRUCT for AMC-023 patient not found\n",
      "RTSTRUCT for AMC-024 patient not found\n",
      "RTSTRUCT for AMC-025 patient not found\n",
      "RTSTRUCT for AMC-026 patient not found\n",
      "RTSTRUCT for AMC-027 patient not found\n",
      "RTSTRUCT for AMC-028 patient not found\n",
      "RTSTRUCT for AMC-029 patient not found\n",
      "RTSTRUCT for AMC-030 patient not found\n",
      "Some problems occures with this file  B:\\Abdalla\\Histology\\Stanford\\NSCLC Radiogenomics/AMC-031\\1.3.6.1.4.1.14519.5.2.1.4334.1501.131634601826089417697523573001\\1.3.6.1.4.1.14519.5.2.1.4334.1501.118808283637255844762541655585\\000036.dcm\n",
      "RTSTRUCT for AMC-031 patient not found\n",
      "RTSTRUCT for AMC-032 patient not found\n",
      "RTSTRUCT for AMC-033 patient not found\n",
      "RTSTRUCT for AMC-034 patient not found\n",
      "RTSTRUCT for AMC-035 patient not found\n",
      "RTSTRUCT for AMC-036 patient not found\n",
      "RTSTRUCT for AMC-037 patient not found\n",
      "RTSTRUCT for AMC-038 patient not found\n",
      "RTSTRUCT for AMC-039 patient not found\n",
      "RTSTRUCT for AMC-040 patient not found\n",
      "RTSTRUCT for AMC-041 patient not found\n",
      "RTSTRUCT for AMC-042 patient not found\n",
      "RTSTRUCT for AMC-043 patient not found\n",
      "RTSTRUCT for AMC-044 patient not found\n",
      "RTSTRUCT for AMC-045 patient not found\n",
      "RTSTRUCT for AMC-046 patient not found\n",
      "RTSTRUCT for AMC-047 patient not found\n",
      "RTSTRUCT for AMC-048 patient not found\n",
      "RTSTRUCT for AMC-049 patient not found\n",
      "RTSTRUCT for R01-001 patient not found\n",
      "RTSTRUCT for R01-002 patient not found\n",
      "RTSTRUCT for R01-003 patient not found\n",
      "RTSTRUCT for R01-004 patient not found\n",
      "RTSTRUCT for R01-005 patient not found\n",
      "RTSTRUCT for R01-006 patient not found\n",
      "RTSTRUCT for R01-007 patient not found\n",
      "RTSTRUCT for R01-008 patient not found\n",
      "RTSTRUCT for R01-009 patient not found\n",
      "RTSTRUCT for R01-010 patient not found\n",
      "RTSTRUCT for R01-011 patient not found\n",
      "RTSTRUCT for R01-012 patient not found\n",
      "RTSTRUCT for R01-013 patient not found\n",
      "RTSTRUCT for R01-014 patient not found\n",
      "RTSTRUCT for R01-015 patient not found\n",
      "RTSTRUCT for R01-016 patient not found\n",
      "RTSTRUCT for R01-017 patient not found\n",
      "RTSTRUCT for R01-018 patient not found\n",
      "RTSTRUCT for R01-019 patient not found\n",
      "RTSTRUCT for R01-020 patient not found\n",
      "RTSTRUCT for R01-021 patient not found\n",
      "RTSTRUCT for R01-022 patient not found\n",
      "RTSTRUCT for R01-023 patient not found\n",
      "RTSTRUCT for R01-024 patient not found\n",
      "RTSTRUCT for R01-025 patient not found\n",
      "RTSTRUCT for R01-026 patient not found\n",
      "RTSTRUCT for R01-027 patient not found\n",
      "RTSTRUCT for R01-028 patient not found\n",
      "RTSTRUCT for R01-029 patient not found\n",
      "RTSTRUCT for R01-030 patient not found\n",
      "RTSTRUCT for R01-031 patient not found\n",
      "RTSTRUCT for R01-032 patient not found\n",
      "RTSTRUCT for R01-033 patient not found\n",
      "RTSTRUCT for R01-034 patient not found\n",
      "RTSTRUCT for R01-035 patient not found\n",
      "RTSTRUCT for R01-036 patient not found\n",
      "RTSTRUCT for R01-037 patient not found\n",
      "RTSTRUCT for R01-038 patient not found\n",
      "RTSTRUCT for R01-039 patient not found\n",
      "RTSTRUCT for R01-040 patient not found\n",
      "RTSTRUCT for R01-041 patient not found\n",
      "RTSTRUCT for R01-042 patient not found\n",
      "RTSTRUCT for R01-043 patient not found\n",
      "RTSTRUCT for R01-044 patient not found\n",
      "RTSTRUCT for R01-045 patient not found\n",
      "RTSTRUCT for R01-046 patient not found\n",
      "RTSTRUCT for R01-047 patient not found\n",
      "RTSTRUCT for R01-048 patient not found\n",
      "RTSTRUCT for R01-049 patient not found\n",
      "RTSTRUCT for R01-050 patient not found\n",
      "RTSTRUCT for R01-051 patient not found\n",
      "RTSTRUCT for R01-052 patient not found\n",
      "RTSTRUCT for R01-053 patient not found\n",
      "RTSTRUCT for R01-054 patient not found\n",
      "RTSTRUCT for R01-055 patient not found\n",
      "RTSTRUCT for R01-056 patient not found\n",
      "RTSTRUCT for R01-057 patient not found\n",
      "RTSTRUCT for R01-058 patient not found\n",
      "RTSTRUCT for R01-059 patient not found\n",
      "RTSTRUCT for R01-060 patient not found\n",
      "RTSTRUCT for R01-061 patient not found\n",
      "RTSTRUCT for R01-062 patient not found\n",
      "RTSTRUCT for R01-063 patient not found\n",
      "RTSTRUCT for R01-064 patient not found\n",
      "RTSTRUCT for R01-065 patient not found\n",
      "RTSTRUCT for R01-066 patient not found\n",
      "RTSTRUCT for R01-067 patient not found\n",
      "RTSTRUCT for R01-068 patient not found\n",
      "RTSTRUCT for R01-069 patient not found\n",
      "RTSTRUCT for R01-070 patient not found\n",
      "RTSTRUCT for R01-071 patient not found\n",
      "RTSTRUCT for R01-072 patient not found\n",
      "RTSTRUCT for R01-073 patient not found\n",
      "RTSTRUCT for R01-074 patient not found\n",
      "RTSTRUCT for R01-075 patient not found\n",
      "RTSTRUCT for R01-076 patient not found\n",
      "RTSTRUCT for R01-077 patient not found\n",
      "RTSTRUCT for R01-078 patient not found\n",
      "RTSTRUCT for R01-079 patient not found\n",
      "RTSTRUCT for R01-080 patient not found\n",
      "RTSTRUCT for R01-081 patient not found\n",
      "RTSTRUCT for R01-082 patient not found\n",
      "RTSTRUCT for R01-083 patient not found\n",
      "RTSTRUCT for R01-084 patient not found\n",
      "RTSTRUCT for R01-085 patient not found\n",
      "RTSTRUCT for R01-086 patient not found\n",
      "RTSTRUCT for R01-087 patient not found\n",
      "RTSTRUCT for R01-088 patient not found\n",
      "RTSTRUCT for R01-089 patient not found\n",
      "RTSTRUCT for R01-090 patient not found\n",
      "RTSTRUCT for R01-091 patient not found\n",
      "RTSTRUCT for R01-092 patient not found\n",
      "RTSTRUCT for R01-093 patient not found\n",
      "RTSTRUCT for R01-094 patient not found\n",
      "RTSTRUCT for R01-095 patient not found\n",
      "RTSTRUCT for R01-096 patient not found\n",
      "RTSTRUCT for R01-097 patient not found\n",
      "RTSTRUCT for R01-098 patient not found\n",
      "RTSTRUCT for R01-099 patient not found\n",
      "RTSTRUCT for R01-100 patient not found\n",
      "RTSTRUCT for R01-101 patient not found\n",
      "RTSTRUCT for R01-102 patient not found\n",
      "RTSTRUCT for R01-103 patient not found\n",
      "RTSTRUCT for R01-104 patient not found\n",
      "RTSTRUCT for R01-105 patient not found\n",
      "RTSTRUCT for R01-106 patient not found\n",
      "RTSTRUCT for R01-107 patient not found\n",
      "RTSTRUCT for R01-108 patient not found\n",
      "RTSTRUCT for R01-109 patient not found\n",
      "RTSTRUCT for R01-110 patient not found\n",
      "RTSTRUCT for R01-111 patient not found\n",
      "RTSTRUCT for R01-112 patient not found\n",
      "RTSTRUCT for R01-113 patient not found\n",
      "RTSTRUCT for R01-114 patient not found\n",
      "RTSTRUCT for R01-115 patient not found\n",
      "RTSTRUCT for R01-116 patient not found\n",
      "RTSTRUCT for R01-117 patient not found\n",
      "RTSTRUCT for R01-118 patient not found\n",
      "RTSTRUCT for R01-119 patient not found\n",
      "RTSTRUCT for R01-120 patient not found\n",
      "RTSTRUCT for R01-121 patient not found\n",
      "RTSTRUCT for R01-122 patient not found\n",
      "RTSTRUCT for R01-123 patient not found\n",
      "RTSTRUCT for R01-124 patient not found\n",
      "RTSTRUCT for R01-125 patient not found\n",
      "RTSTRUCT for R01-126 patient not found\n",
      "RTSTRUCT for R01-127 patient not found\n",
      "RTSTRUCT for R01-128 patient not found\n",
      "RTSTRUCT for R01-129 patient not found\n",
      "RTSTRUCT for R01-130 patient not found\n",
      "RTSTRUCT for R01-131 patient not found\n",
      "RTSTRUCT for R01-132 patient not found\n",
      "RTSTRUCT for R01-133 patient not found\n",
      "RTSTRUCT for R01-134 patient not found\n",
      "RTSTRUCT for R01-135 patient not found\n",
      "RTSTRUCT for R01-136 patient not found\n",
      "RTSTRUCT for R01-137 patient not found\n",
      "RTSTRUCT for R01-138 patient not found\n",
      "RTSTRUCT for R01-139 patient not found\n",
      "RTSTRUCT for R01-140 patient not found\n",
      "RTSTRUCT for R01-141 patient not found\n",
      "RTSTRUCT for R01-142 patient not found\n",
      "RTSTRUCT for R01-143 patient not found\n",
      "RTSTRUCT for R01-144 patient not found\n",
      "RTSTRUCT for R01-145 patient not found\n",
      "RTSTRUCT for R01-146 patient not found\n",
      "RTSTRUCT for R01-147 patient not found\n",
      "RTSTRUCT for R01-148 patient not found\n",
      "RTSTRUCT for R01-149 patient not found\n",
      "RTSTRUCT for R01-150 patient not found\n",
      "RTSTRUCT for R01-151 patient not found\n",
      "RTSTRUCT for R01-152 patient not found\n",
      "RTSTRUCT for R01-153 patient not found\n",
      "RTSTRUCT for R01-154 patient not found\n",
      "RTSTRUCT for R01-156 patient not found\n"
     ]
    },
    {
     "name": "stdout",
     "output_type": "stream",
     "text": [
      "RTSTRUCT for R01-157 patient not found\n",
      "RTSTRUCT for R01-158 patient not found\n",
      "RTSTRUCT for R01-159 patient not found\n",
      "RTSTRUCT for R01-160 patient not found\n",
      "RTSTRUCT for R01-161 patient not found\n",
      "RTSTRUCT for R01-162 patient not found\n",
      "RTSTRUCT for R01-163 patient not found\n",
      "Parsing time: 4686 sec\n"
     ]
    }
   ],
   "source": [
    "###Directory parser module\n",
    "init_time = time.time()\n",
    "\n",
    "# searching for DICOM files\n",
    "patients = next(os.walk(general_path))[1]\n",
    "print(len(patients),' Patients found')\n",
    "Patient_dict={}\n",
    "\n",
    "#loop over patients for finding RTSTRUCT\n",
    "for patient in General_func.log_progress(patients,every=1):\n",
    "    Patient_dict = General_func.Parsing_dir(general_path,patient,Patient_dict) \n",
    "    \n",
    "print('Parsing time: %d sec'%(time.time()-init_time))\n",
    "    "
   ]
  },
  {
   "cell_type": "code",
   "execution_count": 4,
   "metadata": {
    "scrolled": true
   },
   "outputs": [
    {
     "data": {
      "application/vnd.jupyter.widget-view+json": {
       "model_id": "78589185673041e4b33abe2d822aff21",
       "version_major": 2,
       "version_minor": 0
      },
      "text/plain": [
       "A Jupyter Widget"
      ]
     },
     "metadata": {},
     "output_type": "display_data"
    },
    {
     "name": "stdout",
     "output_type": "stream",
     "text": [
      "Conversion completed in 0 seconds \n",
      "Conerted files in directory: B:\\Sergey\\NSCLC Radiogenomics stanford/converted_nrrds\n"
     ]
    }
   ],
   "source": [
    "start_time = time.time()     \n",
    "Output_dictionary ={}\n",
    "on=0\n",
    "\n",
    "for patient in General_func.log_progress(Patient_dict.keys(),every=1): \n",
    "    Output_dictionary,on= General_func.Batch_calculation(Patient_dict,patient,Region_of_interest,convert_to_nrrd,exportDir,paramsFile,logg_enable,Output_dictionary,on)            \n",
    "if not(convert_to_nrrd):\n",
    "    Output_patients = DataFrame.from_dict(Output_dictionary).T\n",
    "    print('Features shape : ',Output_patients.shape)\n",
    "    writer = pd.ExcelWriter(exportDir+'/'+export_name)\n",
    "    Output_patients.to_excel(writer,'Sheet1')\n",
    "    writer.save()\n",
    "    print('Calculation completed in %d seconds ' % (time.time() - start_time))\n",
    "    print('Features file in directiry: %s'%exportDir)\n",
    "else:           \n",
    "    print('Conversion completed in %d seconds ' % (time.time() - start_time))\n",
    "    print('Conerted files in directory: %s'%exportDir+'/converted_nrrds')"
   ]
  },
  {
   "cell_type": "code",
   "execution_count": null,
   "metadata": {
    "collapsed": true
   },
   "outputs": [],
   "source": []
  },
  {
   "cell_type": "code",
   "execution_count": null,
   "metadata": {
    "collapsed": true
   },
   "outputs": [],
   "source": []
  },
  {
   "cell_type": "code",
   "execution_count": null,
   "metadata": {
    "collapsed": true
   },
   "outputs": [],
   "source": []
  },
  {
   "cell_type": "code",
   "execution_count": null,
   "metadata": {
    "collapsed": true
   },
   "outputs": [],
   "source": []
  },
  {
   "cell_type": "code",
   "execution_count": null,
   "metadata": {
    "collapsed": true
   },
   "outputs": [],
   "source": []
  },
  {
   "cell_type": "code",
   "execution_count": null,
   "metadata": {
    "collapsed": true
   },
   "outputs": [],
   "source": []
  },
  {
   "cell_type": "code",
   "execution_count": null,
   "metadata": {
    "collapsed": true
   },
   "outputs": [],
   "source": []
  },
  {
   "cell_type": "markdown",
   "metadata": {},
   "source": [
    "## Extra functions:\n"
   ]
  },
  {
   "cell_type": "code",
   "execution_count": 6,
   "metadata": {
    "collapsed": true
   },
   "outputs": [],
   "source": [
    "# Use this function to rename your dataset in case of it not ends with '.dcm'\n",
    "import glob, os\n",
    "def rename(direct, pattern, titlePattern):\n",
    "    for pathAndFilename in glob.iglob(os.path.join(direct, pattern)):\n",
    "        title, ext = os.path.splitext(os.path.basename(pathAndFilename))\n",
    "        os.rename(pathAndFilename, \n",
    "                  os.path.join(direct, titlePattern % title + ext))\n",
    "\n",
    "        \n",
    "patients = next(os.walk(r'B:\\Sebastian\\For Sergey\\For Sergey'))[1]\n",
    "for patient in patients:\n",
    "    rename(r'B:\\Sebastian\\For Sergey\\For Sergey\\%s'%patient, '*', '%s'+'.dcm')\n"
   ]
  },
  {
   "cell_type": "code",
   "execution_count": 5,
   "metadata": {
    "collapsed": true
   },
   "outputs": [],
   "source": [
    "#Patient dictionary writer function\n",
    "import csv\n",
    "dictionary_path=r'C:\\Users\\S.Primakov\\Documents\\Python Scripts\\ucsfdict.csv'\n",
    "with open(dictionary_path,'w') as dict_file:\n",
    "    writer = csv.writer(dict_file)\n",
    "    for key,value in Patient_dict.items():\n",
    "        writer.writerow([key,value[0],value[1]])"
   ]
  },
  {
   "cell_type": "code",
   "execution_count": null,
   "metadata": {},
   "outputs": [],
   "source": [
    "#Patient dictionary reader function\n",
    "Patient_dict={}\n",
    "import csv\n",
    "dictionary_path=r'C:\\Users\\S.Primakov\\Documents\\Python Scripts\\ucsfdict.csv'\n",
    "with open(dictionary_path,'r') as dict_file:\n",
    "    reader = csv.reader(dict_file)\n",
    "    for i in reader:\n",
    "        Patient_dict[i[0]]=[i[1],i[2]]"
   ]
  },
  {
   "cell_type": "code",
   "execution_count": null,
   "metadata": {
    "collapsed": true
   },
   "outputs": [],
   "source": []
  },
  {
   "cell_type": "code",
   "execution_count": null,
   "metadata": {
    "collapsed": true
   },
   "outputs": [],
   "source": []
  },
  {
   "cell_type": "code",
   "execution_count": null,
   "metadata": {
    "collapsed": true
   },
   "outputs": [],
   "source": [
    "####debug"
   ]
  },
  {
   "cell_type": "code",
   "execution_count": null,
   "metadata": {
    "collapsed": true
   },
   "outputs": [],
   "source": []
  },
  {
   "cell_type": "code",
   "execution_count": 5,
   "metadata": {
    "collapsed": true
   },
   "outputs": [],
   "source": [
    "import radiomics\n",
    "from radiomics import featureextractor"
   ]
  },
  {
   "cell_type": "code",
   "execution_count": 6,
   "metadata": {},
   "outputs": [
    {
     "data": {
      "text/plain": [
       "'1.3.0.post59+g2e6d2c1'"
      ]
     },
     "execution_count": 6,
     "metadata": {},
     "output_type": "execute_result"
    }
   ],
   "source": [
    "radiomics.__version__"
   ]
  },
  {
   "cell_type": "raw",
   "metadata": {},
   "source": []
  },
  {
   "cell_type": "code",
   "execution_count": null,
   "metadata": {
    "collapsed": true
   },
   "outputs": [],
   "source": []
  },
  {
   "cell_type": "code",
   "execution_count": null,
   "metadata": {
    "collapsed": true
   },
   "outputs": [],
   "source": []
  },
  {
   "cell_type": "code",
   "execution_count": null,
   "metadata": {
    "collapsed": true
   },
   "outputs": [],
   "source": []
  }
 ],
 "metadata": {
  "kernelspec": {
   "display_name": "Python 3",
   "language": "python",
   "name": "python3"
  },
  "language_info": {
   "codemirror_mode": {
    "name": "ipython",
    "version": 3
   },
   "file_extension": ".py",
   "mimetype": "text/x-python",
   "name": "python",
   "nbconvert_exporter": "python",
   "pygments_lexer": "ipython3",
   "version": "3.6.6"
  }
 },
 "nbformat": 4,
 "nbformat_minor": 2
}
